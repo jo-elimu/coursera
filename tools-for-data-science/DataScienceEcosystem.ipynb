{
 "cells": [
  {
   "cell_type": "markdown",
   "id": "71d17af2-4bc1-4e15-8aef-c20341ff00a7",
   "metadata": {},
   "source": [
    "# Data Science Tools and Ecosystem"
   ]
  },
  {
   "cell_type": "markdown",
   "id": "22606024-5cb4-40f0-9228-d0320235d886",
   "metadata": {},
   "source": [
    "In this notebook, Data Science Tools and Ecosystem are summarized."
   ]
  },
  {
   "cell_type": "markdown",
   "id": "21f5fab9-398b-4bec-9ed1-f7861ff58ebb",
   "metadata": {},
   "source": [
    "Some of the popular languages that Data Scientists use are:\n",
    "\n",
    "1. Python\n",
    "2. R\n",
    "3. SQL"
   ]
  },
  {
   "cell_type": "markdown",
   "id": "7520ddfd-b5c3-4ef1-9d62-ee92361169f0",
   "metadata": {},
   "source": [
    "Some of the commonly used libraries used by Data Scientists include:\n",
    "\n",
    "1. Pandas\n",
    "2. NumPy\n",
    "3. Plotly"
   ]
  },
  {
   "cell_type": "markdown",
   "id": "8167c0ee-3fab-4904-b0a5-1b53f0d01826",
   "metadata": {},
   "source": [
    "| Data Science Tools |\n",
    "| --- |\n",
    "| Apache MLlib |\n",
    "| Apache Spark |\n",
    "| Hadoop |"
   ]
  },
  {
   "cell_type": "markdown",
   "id": "0ac1ee23-942a-4af4-8041-814256ae25eb",
   "metadata": {},
   "source": [
    "### Below are a few examples of evaluating arithmetic expressions in Python\n",
    "\n",
    "```python\n",
    "additionExpression = 1 + 2\n",
    "exponentialExpression = 2^4\n",
    "```"
   ]
  },
  {
   "cell_type": "code",
   "execution_count": 2,
   "id": "b09606d9-175f-4718-9777-091574bf94cd",
   "metadata": {},
   "outputs": [
    {
     "data": {
      "text/plain": [
       "17"
      ]
     },
     "execution_count": 2,
     "metadata": {},
     "output_type": "execute_result"
    }
   ],
   "source": [
    "# This a simple arithmetic expression to multiply then add integers\n",
    "multiply_and_add = (3*4)+5\n",
    "multiply_and_add"
   ]
  },
  {
   "cell_type": "code",
   "execution_count": 3,
   "id": "0c2c6dc1-e66f-4768-ad1a-3e1317d4c648",
   "metadata": {},
   "outputs": [
    {
     "data": {
      "text/plain": [
       "3.3333333333333335"
      ]
     },
     "execution_count": 3,
     "metadata": {},
     "output_type": "execute_result"
    }
   ],
   "source": [
    "# This will convert 200 minutes to hours by diving by 60\n",
    "def convertToHours(minutes):\n",
    "    return minutes / 60\n",
    "\n",
    "\n",
    "convertToHours(200)"
   ]
  },
  {
   "cell_type": "markdown",
   "id": "ae07c5ea-b5c7-42cf-9022-2f9723ea21ea",
   "metadata": {},
   "source": [
    "Objectives:\n",
    "\n",
    "* List data science languages\n",
    "* List data science libraries\n",
    "* Create a table of Data Science tools"
   ]
  },
  {
   "cell_type": "markdown",
   "id": "63c2f580-4a7f-4ccc-9787-e823e644ba4f",
   "metadata": {},
   "source": [
    "## Author\n",
    "\n",
    "Jo Grimstad\n"
   ]
  },
  {
   "cell_type": "code",
   "execution_count": null,
   "id": "11fe8f07-3dbf-499e-b94f-2874ad116ffa",
   "metadata": {},
   "outputs": [],
   "source": []
  }
 ],
 "metadata": {
  "kernelspec": {
   "display_name": "Python 3 (ipykernel)",
   "language": "python",
   "name": "python3"
  },
  "language_info": {
   "codemirror_mode": {
    "name": "ipython",
    "version": 3
   },
   "file_extension": ".py",
   "mimetype": "text/x-python",
   "name": "python",
   "nbconvert_exporter": "python",
   "pygments_lexer": "ipython3",
   "version": "3.11.9"
  }
 },
 "nbformat": 4,
 "nbformat_minor": 5
}
